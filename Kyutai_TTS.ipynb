{
  "nbformat": 4,
  "nbformat_minor": 0,
  "metadata": {
    "colab": {
      "provenance": [],
      "gpuType": "T4",
      "include_colab_link": true
    },
    "kernelspec": {
      "name": "python3",
      "display_name": "Python 3"
    },
    "language_info": {
      "name": "python"
    },
    "accelerator": "GPU"
  },
  "cells": [
    {
      "cell_type": "markdown",
      "metadata": {
        "id": "view-in-github",
        "colab_type": "text"
      },
      "source": [
        "<a href=\"https://colab.research.google.com/github/Tanvirtan/AutomaticFireFightingRobot/blob/master/Kyutai_TTS.ipynb\" target=\"_parent\"><img src=\"https://colab.research.google.com/assets/colab-badge.svg\" alt=\"Open In Colab\"/></a>"
      ]
    },
    {
      "cell_type": "markdown",
      "source": [
        "This Colab notebook uses the official code from the [Kyutai Delayed Streams Modeling repository](https://github.com/kyutai-labs/delayed-streams-modeling)\n",
        "\n",
        "It is **not optimized for real-time or production use**. This Gradio demo is just for testing Kyutai TTS.\n",
        "\n",
        "For faster results and real-time streaming, check out the official GitHub page."
      ],
      "metadata": {
        "id": "8dj7socKU2zk"
      }
    },
    {
      "cell_type": "code",
      "execution_count": 1,
      "metadata": {
        "id": "z7hr889ORwWc",
        "cellView": "form"
      },
      "outputs": [],
      "source": [
        "#@title Install Kyutai TTS\n",
        "%cd /content/\n",
        "!git clone https://github.com/NeuralFalconYT/Kyutai-TTS-Colab.git\n",
        "%cd /content/Kyutai-TTS-Colab\n",
        "!git clone https://huggingface.co/kyutai/tts-voices\n",
        "\n",
        "!pip install 'sphn<0.2'\n",
        "!pip install --no-deps \"moshi==0.2.7\"\n",
        "!pip install gradio>=5.35.0\n",
        "\n",
        "#For local install\n",
        "\n",
        "# !pip install 'sphn<0.2'\n",
        "# !pip install \"moshi==0.2.7\"\n",
        "# !pip install soundfile\n",
        "# !pip install pydub>=0.25.1\n",
        "# !pip install librosa>=0.11.0\n",
        "# !pip install huggingface-hub>=0.33.1\n",
        "# !pip install click>=8.2.1\n",
        "# !pip install gradio>=5.35.0\n",
        "\n",
        "# Optional: FFmpeg is used for changing audio speed.\n",
        "# If FFmpeg is not available, Librosa will be used as a fallback.\n",
        "\n",
        "# !sudo apt update\n",
        "# !sudo apt install ffmpeg\n",
        "\n",
        "# For windows https://ffmpeg.org/download.html\n",
        "from IPython.display import clear_output\n",
        "clear_output()\n"
      ]
    },
    {
      "cell_type": "code",
      "source": [
        "%cd /content/Kyutai-TTS-Colab\n",
        "!python app.py --share"
      ],
      "metadata": {
        "id": "LpyeHltESh8y",
        "outputId": "766d0939-b51e-4b9e-956b-49961c02f129",
        "colab": {
          "base_uri": "https://localhost:8080/"
        }
      },
      "execution_count": null,
      "outputs": [
        {
          "output_type": "stream",
          "name": "stdout",
          "text": [
            "/content/Kyutai-TTS-Colab\n",
            "config.json: 2.42kB [00:00, 13.0MB/s]\n",
            "dsm_tts_1e68beda%40240.safetensors: 100% 3.68G/3.68G [00:17<00:00, 215MB/s]\n",
            "(…)nizer-e351c8d8-checkpoint125.safetensors: 100% 385M/385M [00:03<00:00, 116MB/s]\n",
            "tokenizer_spm_8k_en_fr_audio.model: 100% 120k/120k [00:00<00:00, 229MB/s]\n",
            "* Running on local URL:  http://127.0.0.1:7860\n",
            "* Running on public URL: https://8d32a192ae3de2a2fc.gradio.live\n",
            "\n",
            "This share link expires in 1 week. For free permanent hosting and GPU upgrades, run `gradio deploy` from the terminal in the working directory to deploy to Hugging Face Spaces (https://huggingface.co/spaces)\n",
            "(…)nel1_168s.wav.1e68beda%40240.safetensors: 100% 256k/256k [00:00<00:00, 13.0MB/s]\n",
            "W0801 04:33:38.243000 1443 torch/_inductor/utils.py:1137] [1/0] Not enough SMs to use max_autotune_gemm mode\n",
            "(…)0009-0003.wav.1e68beda%40240.safetensors: 100% 256k/256k [00:00<00:00, 80.9MB/s]\n",
            "(…)annel1_3s.wav.1e68beda%40240.safetensors: 100% 256k/256k [00:00<00:00, 8.86MB/s]\n"
          ]
        }
      ]
    }
  ]
}